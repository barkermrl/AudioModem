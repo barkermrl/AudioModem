{
 "cells": [
  {
   "cell_type": "code",
   "execution_count": 154,
   "metadata": {},
   "outputs": [],
   "source": [
    "import matplotlib.pyplot as plt\n",
    "import numpy as np\n",
    "from scipy.signal import chirp, spectrogram, convolve\n",
    "from scipy.io import wavfile\n",
    "import sounddevice as sd\n",
    "import subprocess\n",
    "\n",
    "from utilities import *"
   ]
  },
  {
   "cell_type": "code",
   "execution_count": 89,
   "metadata": {},
   "outputs": [],
   "source": [
    "# constellation_map = {\n",
    "#     '00' : complex(1/np.sqrt(2), 1/np.sqrt(2)),\n",
    "#     '01' : complex(-1/np.sqrt(2), 1/np.sqrt(2)),\n",
    "#     '11' : complex(-1/np.sqrt(2), -1/np.sqrt(2)),\n",
    "#     '10' : complex(1/np.sqrt(2), -1/np.sqrt(2)),\n",
    "# }\n",
    "constellation_map = {\n",
    "    0: 1,\n",
    "    1: -1,\n",
    "}\n",
    "\n",
    "QAM_symbols = np.array([*constellation_map.values()])\n",
    "QAM_bits = np.array([*constellation_map.keys()])"
   ]
  },
  {
   "cell_type": "code",
   "execution_count": 125,
   "metadata": {},
   "outputs": [],
   "source": [
    "N = 8192\n",
    "L = 1024\n",
    "\n",
    "source = np.random.choice(list(constellation_map.values()), (N-2)//2)\n",
    "source\n",
    "subcarrier_data = np.concatenate(([0], source, [0], np.conjugate(np.flip(source))))\n",
    "x = np.fft.ifft(subcarrier_data).real\n",
    "OFDM_symbol = np.concatenate((x[-L:], x))\n",
    "OFDM_symbol /= np.max(np.abs(OFDM_symbol))"
   ]
  },
  {
   "cell_type": "code",
   "execution_count": 146,
   "metadata": {},
   "outputs": [],
   "source": [
    "fs = 44100\n",
    "\n",
    "t_chirp = np.linspace(0,1,fs)\n",
    "chirp_standard = chirp(t_chirp, 1e3, 1, 10e3, method='linear')\n",
    "\n",
    "pause = np.zeros(fs)\n",
    "\n",
    "whitenoise = np.random.randn(fs)\n",
    "whitenoise /= np.max(np.abs(whitenoise))\n",
    "\n",
    "standard = np.concatenate([pause, chirp_standard, pause, whitenoise, pause])\n",
    "\n",
    "OFDM_frame = np.tile(OFDM_symbol, 10)\n",
    "signal = np.concatenate([standard, OFDM_frame])"
   ]
  },
  {
   "cell_type": "code",
   "execution_count": 198,
   "metadata": {},
   "outputs": [
    {
     "data": {
      "text/plain": [
       "[<matplotlib.lines.Line2D at 0x7ff21a58dd10>]"
      ]
     },
     "execution_count": 198,
     "metadata": {},
     "output_type": "execute_result"
    }
   ],
   "source": [
    "plt.plot(signal)"
   ]
  },
  {
   "cell_type": "code",
   "execution_count": 134,
   "metadata": {},
   "outputs": [],
   "source": [
    "write('OFDM/test_frame.wav', fs, signal)"
   ]
  },
  {
   "cell_type": "code",
   "execution_count": 152,
   "metadata": {},
   "outputs": [],
   "source": [
    "subprocess.Popen([\"afplay\", \"OFDM/test_frame.wav\"])\n",
    "received = sd.rec(len(signal), samplerate = fs, channels = 1, blocking = True).flatten()"
   ]
  },
  {
   "cell_type": "code",
   "execution_count": 176,
   "metadata": {},
   "outputs": [],
   "source": [
    "def synchronise(received, chirp_standard):\n",
    "    conv = convolve(received, np.flip(chirp_standard), mode='same')\n",
    "    return np.argmax(np.abs(conv))"
   ]
  },
  {
   "cell_type": "code",
   "execution_count": 200,
   "metadata": {},
   "outputs": [],
   "source": [
    "%matplotlib qt\n",
    "plt.plot(received)\n",
    "start = synchronise(received, chirp_standard)\n",
    "for i in range(-2,13):\n",
    "    plt.axvline(x=start+i*fs//2, c='r')\n",
    "plt.show()"
   ]
  },
  {
   "cell_type": "code",
   "execution_count": 201,
   "metadata": {},
   "outputs": [
    {
     "data": {
      "text/plain": [
       "[<matplotlib.lines.Line2D at 0x7ff213b9b290>]"
      ]
     },
     "execution_count": 201,
     "metadata": {},
     "output_type": "execute_result"
    },
    {
     "data": {
      "image/png": "[encoded data removed]",
      "text/plain": [
       "<Figure size 432x288 with 1 Axes>"
      ]
     },
     "metadata": {
      "needs_background": "light"
     },
     "output_type": "display_data"
    }
   ],
   "source": [
    "%matplotlib inline\n",
    "received_frame = received[start+int(3.5*fs):start+int(4.5*fs)]\n",
    "plt.plot(received_frame)"
   ]
  },
  {
   "cell_type": "code",
   "execution_count": 170,
   "metadata": {},
   "outputs": [
    {
     "data": {
      "text/plain": [
       "312660"
      ]
     },
     "execution_count": 170,
     "metadata": {},
     "output_type": "execute_result"
    }
   ],
   "source": [
    "len(conv)"
   ]
  },
  {
   "cell_type": "code",
   "execution_count": 171,
   "metadata": {},
   "outputs": [
    {
     "data": {
      "text/plain": [
       "312660"
      ]
     },
     "execution_count": 171,
     "metadata": {},
     "output_type": "execute_result"
    }
   ],
   "source": [
    "len(received)"
   ]
  },
  {
   "cell_type": "code",
   "execution_count": 172,
   "metadata": {},
   "outputs": [
    {
     "data": {
      "text/plain": [
       "1.2227891156462585"
      ]
     },
     "execution_count": 172,
     "metadata": {},
     "output_type": "execute_result"
    }
   ],
   "source": [
    "np.argmax(conv)/fs"
   ]
  },
  {
   "cell_type": "code",
   "execution_count": null,
   "metadata": {},
   "outputs": [],
   "source": []
  }
 ],
 "metadata": {
  "kernelspec": {
   "display_name": "Python 3",
   "language": "python",
   "name": "python3"
  },
  "language_info": {
   "codemirror_mode": {
    "name": "ipython",
    "version": 3
   },
   "file_extension": ".py",
   "mimetype": "text/x-python",
   "name": "python",
   "nbconvert_exporter": "python",
   "pygments_lexer": "ipython3",
   "version": "3.7.5"
  }
 },
 "nbformat": 4,
 "nbformat_minor": 4
}
