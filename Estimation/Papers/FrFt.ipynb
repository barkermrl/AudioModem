{
 "cells": [
  {
   "cell_type": "code",
   "execution_count": 90,
   "metadata": {},
   "outputs": [],
   "source": [
    "\"\"\"\n",
    "Module to calculate the fast fractional fourier transform.\n",
    "Source: https://github.com/nanaln/python_frft/blob/master/frft/frft.py.\n",
    "\"\"\"\n",
    "\n",
    "import numpy as np\n",
    "import scipy.signal\n",
    "from scipy.optimize import minimize_scalar\n",
    "\n",
    "import matplotlib.pyplot as plt\n",
    "\n",
    "\n",
    "def frft(f, a):\n",
    "    \"\"\"\n",
    "    Calculate the fast fractional fourier transform.\n",
    "    Parameters\n",
    "    ----------\n",
    "    f : numpy array\n",
    "        The signal to be transformed.\n",
    "    a : float\n",
    "        fractional power\n",
    "    Returns\n",
    "    -------\n",
    "    data : numpy array\n",
    "        The transformed signal.\n",
    "    References\n",
    "    ---------\n",
    "     .. [1] This algorithm implements `frft.m` from\n",
    "        https://nalag.cs.kuleuven.be/research/software/FRFT/\n",
    "    \"\"\"\n",
    "    ret = np.zeros_like(f, dtype=np.complex)\n",
    "    f = f.copy().astype(np.complex)\n",
    "    N = len(f)\n",
    "    shft = np.fmod(np.arange(N) + np.fix(N / 2), N).astype(int)\n",
    "    sN = np.sqrt(N)\n",
    "    a = np.remainder(a, 4.0)\n",
    "\n",
    "    # Special cases\n",
    "    if a == 0.0:\n",
    "        return f\n",
    "    if a == 2.0:\n",
    "        return np.flipud(f)\n",
    "    if a == 1.0:\n",
    "        ret[shft] = np.fft.fft(f[shft]) / sN\n",
    "        return ret\n",
    "    if a == 3.0:\n",
    "        ret[shft] = np.fft.ifft(f[shft]) * sN\n",
    "        return ret\n",
    "\n",
    "    # reduce to interval 0.5 < a < 1.5\n",
    "    if a > 2.0:\n",
    "        a = a - 2.0\n",
    "        f = np.flipud(f)\n",
    "    if a > 1.5:\n",
    "        a = a - 1\n",
    "        f[shft] = np.fft.fft(f[shft]) / sN\n",
    "    if a < 0.5:\n",
    "        a = a + 1\n",
    "        f[shft] = np.fft.ifft(f[shft]) * sN\n",
    "\n",
    "    # the general case for 0.5 < a < 1.5\n",
    "    alpha = a * np.pi / 2\n",
    "    tana2 = np.tan(alpha / 2)\n",
    "    sina = np.sin(alpha)\n",
    "    f = np.hstack((np.zeros(N - 1), _sincinterp(f), np.zeros(N - 1))).T\n",
    "\n",
    "    # chirp premultiplication\n",
    "    chrp = np.exp(-1j * np.pi / N * tana2 / 4 *\n",
    "                     np.arange(-2 * N + 2, 2 * N - 1).T ** 2)\n",
    "    f = chrp * f\n",
    "\n",
    "    # chirp convolution\n",
    "    c = np.pi / N / sina / 4\n",
    "    ret = scipy.signal.fftconvolve(\n",
    "        np.exp(1j * c * np.arange(-(4 * N - 4), 4 * N - 3).T ** 2),\n",
    "        f\n",
    "    )\n",
    "    ret = ret[4 * N - 4:8 * N - 7] * np.sqrt(c / np.pi)\n",
    "\n",
    "    # chirp post multiplication\n",
    "    ret = chrp * ret\n",
    "\n",
    "    # normalizing constant\n",
    "    ret = np.exp(-1j * (1 - a) * np.pi / 4) * ret[N - 1:-N + 1:2]\n",
    "\n",
    "    return ret\n",
    "\n",
    "\n",
    "def ifrft(f, a):\n",
    "    \"\"\"\n",
    "    Calculate the inverse fast fractional fourier transform.\n",
    "    Parameters\n",
    "    ----------\n",
    "    f : numpy array\n",
    "        The signal to be transformed.\n",
    "    a : float\n",
    "        fractional power\n",
    "    Returns\n",
    "    -------\n",
    "    data : numpy array\n",
    "        The transformed signal.\n",
    "    \"\"\"\n",
    "    return frft(f, -a)\n",
    "\n",
    "\n",
    "def _sincinterp(x):\n",
    "    N = len(x)\n",
    "    y = np.zeros(2 * N - 1, dtype=x.dtype)\n",
    "    y[:2 * N:2] = x\n",
    "    xint = scipy.signal.fftconvolve(\n",
    "        y[:2 * N],\n",
    "        np.sinc(np.arange(-(2 * N - 3), (2 * N - 2)).T / 2),\n",
    "    )\n",
    "    return xint[2 * N - 3: -2 * N + 3]\n",
    "\n",
    "def _peak_height(a):\n",
    "    return -np.max(np.abs(frft(signal,a)))\n",
    "\n",
    "def optimise_a(signal):\n",
    "    \"\"\"\n",
    "    Parameters\n",
    "    ----------\n",
    "    signal: numpy array\n",
    "        A numpy array to transform (normally a chirp).\n",
    "    \n",
    "    Returns\n",
    "    -------\n",
    "    res : OptimizeResult\n",
    "        The optimization result represented as a ``OptimizeResult`` object.\n",
    "        Important attributes are: ``x`` the solution array, ``success`` a\n",
    "        Boolean flag indicating if the optimizer exited successfully and\n",
    "        ``message`` which describes the cause of the termination. See\n",
    "        `OptimizeResult` for a description of other attributes.\n",
    "    \"\"\"\n",
    "    return minimize_scalar(peak_height, bounds=[0.0,2.0], method='bounded', options={'maxiter':30})"
   ]
  },
  {
   "cell_type": "code",
   "execution_count": null,
   "metadata": {},
   "outputs": [],
   "source": []
  },
  {
   "cell_type": "code",
   "execution_count": 69,
   "metadata": {},
   "outputs": [
    {
     "data": {
      "text/plain": [
       "[<matplotlib.lines.Line2D at 0x7f8c1c0a89d0>]"
      ]
     },
     "execution_count": 69,
     "metadata": {},
     "output_type": "execute_result"
    },
    {
     "data": {
      "image/png": "[encoded data removed]",
      "text/plain": [
       "<Figure size 432x288 with 1 Axes>"
      ]
     },
     "metadata": {
      "needs_background": "light"
     },
     "output_type": "display_data"
    }
   ],
   "source": [
    "fs = 44100\n",
    "\n",
    "t_chirp = np.linspace(0,1,fs)\n",
    "chirp_standard = scipy.signal.chirp(t_chirp, 1e3, 1, 10e3, method='linear')\n",
    "\n",
    "plt.plot(chirp_standard)"
   ]
  },
  {
   "cell_type": "code",
   "execution_count": 70,
   "metadata": {},
   "outputs": [
    {
     "name": "stdout",
     "output_type": "stream",
     "text": [
      "0.8717241379310344\n"
     ]
    },
    {
     "data": {
      "text/plain": [
       "[<matplotlib.lines.Line2D at 0x7f8c24929b50>]"
      ]
     },
     "execution_count": 70,
     "metadata": {},
     "output_type": "execute_result"
    },
    {
     "data": {
      "image/png": "[encoded data removed]",
      "text/plain": [
       "<Figure size 432x288 with 1 Axes>"
      ]
     },
     "metadata": {
      "needs_background": "light"
     },
     "output_type": "display_data"
    }
   ],
   "source": [
    "y_max = []\n",
    "signal = chirp_standard\n",
    "\n",
    "a_vals = np.linspace(0.86,0.88, 30)\n",
    "\n",
    "for a in a_vals:\n",
    "    y_max.append(np.max(frft(signal,a)))\n",
    "\n",
    "a = a_vals[np.argmax(np.array(y_max))]\n",
    "y = np.abs(frft(signal, a))\n",
    "\n",
    "print(a)\n",
    "plt.plot(y)"
   ]
  },
  {
   "cell_type": "code",
   "execution_count": 78,
   "metadata": {},
   "outputs": [],
   "source": [
    "def peak_height(a):\n",
    "    return -np.max(np.abs(frft(signal,a)))"
   ]
  },
  {
   "cell_type": "code",
   "execution_count": 79,
   "metadata": {},
   "outputs": [],
   "source": [
    "from scipy.optimize import minimize_scalar"
   ]
  },
  {
   "cell_type": "code",
   "execution_count": 86,
   "metadata": {},
   "outputs": [],
   "source": [
    "res = minimize_scalar(peak_height, bounds=[0.0,2.0], method='bounded', options={'maxiter':30})"
   ]
  },
  {
   "cell_type": "code",
   "execution_count": 89,
   "metadata": {},
   "outputs": [
    {
     "data": {
      "text/plain": [
       "     fun: -72.79829573355825\n",
       " message: 'Solution found.'\n",
       "    nfev: 23\n",
       "  status: 0\n",
       " success: True\n",
       "       x: 0.8718468064328603"
      ]
     },
     "execution_count": 89,
     "metadata": {},
     "output_type": "execute_result"
    }
   ],
   "source": [
    "res"
   ]
  },
  {
   "cell_type": "code",
   "execution_count": 85,
   "metadata": {},
   "outputs": [
    {
     "name": "stdout",
     "output_type": "stream",
     "text": [
      "Help on function minimize_scalar in module scipy.optimize._minimize:\n",
      "\n",
      "minimize_scalar(fun, bracket=None, bounds=None, args=(), method='brent', tol=None, options=None)\n",
      "    Minimization of scalar function of one variable.\n",
      "    \n",
      "    Parameters\n",
      "    ----------\n",
      "    fun : callable\n",
      "        Objective function.\n",
      "        Scalar function, must return a scalar.\n",
      "    bracket : sequence, optional\n",
      "        For methods 'brent' and 'golden', `bracket` defines the bracketing\n",
      "        interval and can either have three items ``(a, b, c)`` so that\n",
      "        ``a < b < c`` and ``fun(b) < fun(a), fun(c)`` or two items ``a`` and\n",
      "        ``c`` which are assumed to be a starting interval for a downhill\n",
      "        bracket search (see `bracket`); it doesn't always mean that the\n",
      "        obtained solution will satisfy ``a <= x <= c``.\n",
      "    bounds : sequence, optional\n",
      "        For method 'bounded', `bounds` is mandatory and must have two items\n",
      "        corresponding to the optimization bounds.\n",
      "    args : tuple, optional\n",
      "        Extra arguments passed to the objective function.\n",
      "    method : str or callable, optional\n",
      "        Type of solver.  Should be one of:\n",
      "    \n",
      "            - 'Brent'     :ref:`(see here) <optimize.minimize_scalar-brent>`\n",
      "            - 'Bounded'   :ref:`(see here) <optimize.minimize_scalar-bounded>`\n",
      "            - 'Golden'    :ref:`(see here) <optimize.minimize_scalar-golden>`\n",
      "            - custom - a callable object (added in version 0.14.0), see below\n",
      "    \n",
      "    tol : float, optional\n",
      "        Tolerance for termination. For detailed control, use solver-specific\n",
      "        options.\n",
      "    options : dict, optional\n",
      "        A dictionary of solver options.\n",
      "    \n",
      "            maxiter : int\n",
      "                Maximum number of iterations to perform.\n",
      "            disp : bool\n",
      "                Set to True to print convergence messages.\n",
      "    \n",
      "        See :func:`show_options()` for solver-specific options.\n",
      "    \n",
      "    Returns\n",
      "    -------\n",
      "    res : OptimizeResult\n",
      "        The optimization result represented as a ``OptimizeResult`` object.\n",
      "        Important attributes are: ``x`` the solution array, ``success`` a\n",
      "        Boolean flag indicating if the optimizer exited successfully and\n",
      "        ``message`` which describes the cause of the termination. See\n",
      "        `OptimizeResult` for a description of other attributes.\n",
      "    \n",
      "    See also\n",
      "    --------\n",
      "    minimize : Interface to minimization algorithms for scalar multivariate\n",
      "        functions\n",
      "    show_options : Additional options accepted by the solvers\n",
      "    \n",
      "    Notes\n",
      "    -----\n",
      "    This section describes the available solvers that can be selected by the\n",
      "    'method' parameter. The default method is *Brent*.\n",
      "    \n",
      "    Method :ref:`Brent <optimize.minimize_scalar-brent>` uses Brent's\n",
      "    algorithm to find a local minimum.  The algorithm uses inverse\n",
      "    parabolic interpolation when possible to speed up convergence of\n",
      "    the golden section method.\n",
      "    \n",
      "    Method :ref:`Golden <optimize.minimize_scalar-golden>` uses the\n",
      "    golden section search technique. It uses analog of the bisection\n",
      "    method to decrease the bracketed interval. It is usually\n",
      "    preferable to use the *Brent* method.\n",
      "    \n",
      "    Method :ref:`Bounded <optimize.minimize_scalar-bounded>` can\n",
      "    perform bounded minimization. It uses the Brent method to find a\n",
      "    local minimum in the interval x1 < xopt < x2.\n",
      "    \n",
      "    **Custom minimizers**\n",
      "    \n",
      "    It may be useful to pass a custom minimization method, for example\n",
      "    when using some library frontend to minimize_scalar.  You can simply\n",
      "    pass a callable as the ``method`` parameter.\n",
      "    \n",
      "    The callable is called as ``method(fun, args, **kwargs, **options)``\n",
      "    where ``kwargs`` corresponds to any other parameters passed to `minimize`\n",
      "    (such as `bracket`, `tol`, etc.), except the `options` dict, which has\n",
      "    its contents also passed as `method` parameters pair by pair.  The method\n",
      "    shall return an `OptimizeResult` object.\n",
      "    \n",
      "    The provided `method` callable must be able to accept (and possibly ignore)\n",
      "    arbitrary parameters; the set of parameters accepted by `minimize` may\n",
      "    expand in future versions and then these parameters will be passed to\n",
      "    the method.  You can find an example in the scipy.optimize tutorial.\n",
      "    \n",
      "    .. versionadded:: 0.11.0\n",
      "    \n",
      "    Examples\n",
      "    --------\n",
      "    Consider the problem of minimizing the following function.\n",
      "    \n",
      "    >>> def f(x):\n",
      "    ...     return (x - 2) * x * (x + 2)**2\n",
      "    \n",
      "    Using the *Brent* method, we find the local minimum as:\n",
      "    \n",
      "    >>> from scipy.optimize import minimize_scalar\n",
      "    >>> res = minimize_scalar(f)\n",
      "    >>> res.x\n",
      "    1.28077640403\n",
      "    \n",
      "    Using the *Bounded* method, we find a local minimum with specified\n",
      "    bounds as:\n",
      "    \n",
      "    >>> res = minimize_scalar(f, bounds=(-3, -1), method='bounded')\n",
      "    >>> res.x\n",
      "    -2.0000002026\n",
      "\n"
     ]
    }
   ],
   "source": [
    "help(minimize_scalar)"
   ]
  },
  {
   "cell_type": "code",
   "execution_count": 83,
   "metadata": {},
   "outputs": [
    {
     "data": {
      "text/plain": [
       "[<matplotlib.lines.Line2D at 0x7f8c2febb450>]"
      ]
     },
     "execution_count": 83,
     "metadata": {},
     "output_type": "execute_result"
    },
    {
     "data": {
      "image/png": "[encoded data removed]",
      "text/plain": [
       "<Figure size 432x288 with 1 Axes>"
      ]
     },
     "metadata": {
      "needs_background": "light"
     },
     "output_type": "display_data"
    }
   ],
   "source": [
    "plt.plot(np.abs(frft(chirp_standard, 0.8718463982292025)))"
   ]
  },
  {
   "cell_type": "code",
   "execution_count": null,
   "metadata": {},
   "outputs": [],
   "source": []
  }
 ],
 "metadata": {
  "kernelspec": {
   "display_name": "Python 3",
   "language": "python",
   "name": "python3"
  },
  "language_info": {
   "codemirror_mode": {
    "name": "ipython",
    "version": 3
   },
   "file_extension": ".py",
   "mimetype": "text/x-python",
   "name": "python",
   "nbconvert_exporter": "python",
   "pygments_lexer": "ipython3",
   "version": "3.7.5"
  }
 },
 "nbformat": 4,
 "nbformat_minor": 4
}
